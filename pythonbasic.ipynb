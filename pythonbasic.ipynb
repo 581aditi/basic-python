{
  "cells": [
    {
      "cell_type": "markdown",
      "metadata": {
        "id": "KsU2NKr6KLQE"
      },
      "source": [
        " # Python Basic Assignment (No.1)\n",
        "\n",
        "1. What is Python, and why is it popular?\n",
        "-> Python is a high-level, interpreted programming language known for its simplicity, readability, and versatility. It was created by Guido van Rossum and first released in 1991. Python is often used for a wide variety of applications, from web development to data science and artificial intelligence.\n",
        "Reasons why Python is popular:\n",
        "1.Ease of Learning and Use: Python's syntax is clear and readable, making it an excellent choice for beginners. Its simplicity allows developers to write fewer lines of code to accomplish tasks compared to other languages.\n",
        "2.Versatility: Python is used in many fields, including web development (with frameworks like Django and Flask), data science (with libraries like Pandas and NumPy), machine learning (using TensorFlow, Keras, or Scikit-learn), automation, game development, and more.\n",
        "3.Large Community and Ecosystem: Python has a huge community of developers who contribute to a vast ecosystem of libraries, tools, and frameworks. This makes it easy to find solutions and resources to help with almost any problem.\n",
        "4.Cross-platform: Python is platform-independent, which means that Python programs can run on any operating system, such as Windows, macOS, or Linux, without requiring significant changes to the code.\n",
        "\n",
        "5.Integration Capabilities: Python can easily integrate with other languages and technologies. It's often used as a \"glue\" language to connect disparate systems.\n",
        "\n",
        "2. What is an interpreter in Python?\n",
        "-> In Python, an interpreter is a program that reads and executes Python code line-by-line. Unlike a compiler, which translates the entire code into machine code (or an intermediate representation) before execution, an interpreter processes the code directly and executes it step by step.\n",
        "\n",
        "3. What are pre-defined keywords in Python?\n",
        "-> In Python, pre-defined keywords (also known as reserved words) are special words that have specific meanings and functionality in the Python programming language. These keywords are reserved by Python and cannot be used as identifiers (like variable names, function names, etc.).\n",
        "   The purpose of these keywords is to define the syntax and structure of\n",
        "Python programs, and they are an essential part of the language.\n",
        "List of Python's Pre-defined Keywords:\n",
        "[False,None,True,and,as,assert,break,class,continue,def,del,elif,else,except,finally,for,from,global,if,import,in,is,lambda,nonlocal,not,or,pass,raise,return\n",
        "try,,while,with,yield]\n",
        "\n",
        "4. Can keywords be used as variable names?\n",
        "-> No, keywords in Python cannot be used as variable names. Keywords are reserved words that have special meanings in the Python language and are used to define the syntax and structure of Python programs. Attempting to use a keyword as a variable name will result in a SyntaxError.\n",
        "\n",
        "5. What is mutability in Python?\n",
        "-> Mutability in Python refers to whether an object can be modified after it is created. In simpler terms, a mutable object can be changed, while an immutable object cannot be changed once it is created.\n",
        "Examples: Lists, Dictionaries, Sets.\n",
        "\n",
        "6. Why are lists mutable, but tuples are immutable?\n",
        "-> The reason why lists are mutable and tuples are immutable in Python has to do with their intended use cases, design decisions for performance, and their behavior in various contexts.\n",
        "Lists are designed for dynamic data, where you might need to modify the contents of the list (e.g., adding, removing, or changing elements). Lists are typically used when the collection of items is expected to change over time.\n",
        "Tuples, on the other hand, are designed to represent fixed collections of items. Once a tuple is created, the elements are not meant to be changed, as tuples are intended to be used as constant data, such as representing coordinates, configuration settings, or collections that shouldn't change.\n",
        "\n",
        "7. What is the difference between “==” and “is” operators in Python?\n",
        "-> 1. \"==\" Operator (Equality)\n",
        "The \"==\" operator is used to compare the values of two objects. It checks whether the values stored in two variables are the same, regardless of whether they are the same object in memory.\n",
        "It evaluates to True if the values of the two objects being compared are the same.\n",
        "It works by calling the __eq__ method of the objects to check for value equality.\n",
        "2. \"is\" Operator (Identity)\n",
        "The \"is\" operator is used to compare the identity of two objects. It checks whether the two variables point to the same object in memory (i.e., whether they are the same object, not just equal in value).\n",
        "It evaluates to True if both variables point to the same object in memory.\n",
        "It checks if the two variables refer to the exact same object (by comparing their memory addresses).\n",
        "\n",
        "8. What are logical operators in Python?\n",
        "-> In Python, logical operators are used to combine conditional statements and evaluate boolean expressions. These operators return a boolean value (True or False) based on the conditions that are being tested.\n",
        "The three main logical operators in Python are:\n",
        " 1. and :\n",
        "    The \"and\" operator returns True if both conditions being compared are True.If either condition is False, the result is False.\n",
        " 2. or :\n",
        "    The \"or\" operator returns True if at least one of the conditions is True. If both conditions are False, the result is False.\n",
        " 3. not :\n",
        "    The \"not\" operator is used to invert the boolean value of a condition. If the condition is True, not will return False; if the condition is False, not will return True.\n",
        "\n",
        "9. What is type casting in Python?\n",
        "-> Type casting in Python refers to the conversion of one data type into another. Python provides a variety of functions to explicitly convert data between different types. This process is useful when you need to perform operations or comparisons between variables of different types.\n",
        "Two Types of Type Casting in Python:\n",
        "1. Implicit Type Casting.\n",
        "2. Explicit Type Casting.\n",
        "\n",
        "10. What is the difference between implicit and explicit type casting?\n",
        "->   Implicit Type Casting :\n",
        "  Implicit type casting, also known as type coercion, is done automatically by Python when it needs to convert one data type to another, usually when the conversion is safe and does not lose information. This occurs when a smaller data type is converted into a larger data type, and the conversion happens without any data loss.\n",
        "    Explicit Type Casting :\n",
        "  Explicit type casting (also called type conversion) is when you manually convert one data type to another using Python's built-in functions. This gives you more control over how the data is converted, especially when the conversion is between types that might not be compatible or could lead to data loss.\n",
        "\n",
        "11. What is the purpose of conditional statements in Python?\n",
        "->  Conditional statements in Python are used to perform different actions based on different conditions. They allow your program to make decisions, executing certain code only when specific conditions are true. This enables dynamic behavior in programs, as opposed to just running code sequentially.\n",
        "The Purpose of Conditional Statements:\n",
        " 1. Decision Making: They allow your program to execute different code based on certain conditions (e.g., if a number is positive or negative, if a user is logged in or not).\n",
        " 2. Flow Control: Conditional statements control the flow of the program by allowing some parts of the code to run only if certain conditions are met.\n",
        " 3. Handling Multiple Scenarios: They allow programs to handle various situations in different ways, ensuring the right action is taken under different circumstances.\n",
        "\n",
        " 12. How does the elif statement work?\n",
        " -> The elif statement in Python stands for \"else if\" and is used to check additional conditions when the initial if condition is not met. It allows you to test multiple conditions sequentially, executing the block of code corresponding to the first True condition, and ignoring the rest.\n",
        " How the elif Statement Works:\n",
        "First, Python checks the condition in the if statement.\n",
        "If the if condition is False, Python moves to the first elif condition and checks it.\n",
        "If the elif condition is also False, Python moves to the next elif (if any) and checks again.\n",
        "If all if and elif conditions are False, Python will execute the code in the else block (if provided).\n",
        "We can have multiple elif statements to test different conditions, but only the first True condition will execute.\n",
        "\n",
        "13. What is the difference between for and while loops?\n",
        "-> In Python, both for and while loops are used to repeat a block of code, but they work in different ways and are used in different scenarios. Here's a breakdown of the differences between the two types of loops:\n",
        "1. for Loop\n",
        "The for loop is used when you know how many times you want to repeat a block of code. It is typically used to iterate over a sequence (such as a list, tuple, string, or range).\n",
        "2. while Loop:\n",
        "The while loop, on the other hand, continues to execute a block of code as long as a condition remains True. It is typically used when you don't know the exact number of iterations beforehand and the loop should continue until a specific condition is met.\n",
        "\n",
        "14. Describe a scenario where a while loop is more suitable than a for loop.\n",
        "->  A while loop is more suitable than a for loop in scenarios where the number of iterations is not predetermined and depends on a condition that may change dynamically during the loop's execution. Specifically, when the loop needs to keep running until a specific condition is met, regardless of how many iterations are required.\n",
        "Scenario: User Input Validation\n",
        "Imagine you are creating a program that asks a user to input a valid password. You want the program to keep asking the user for a password until they enter a valid one, but you don’t know how many attempts the user will need. In this case, a while loop is perfect because the loop continues until the user provides the correct input.\n",
        "Why a while loop is suitable:\n",
        "Indeterminate number of iterations: You don’t know how many attempts the user will need to enter the correct password. The number of iterations depends on when the user enters the correct password, so a while loop works well because it will continue as long as the condition (valid password) is not met.\n",
        "Condition-based: The loop is controlled by the condition (if user_input == correct_password), which can change dynamically depending on user input.\n",
        "while loop: Ideal for situations where the stopping condition is based on real-time events or conditions that change during the execution of the loop (like user input, sensor readings, or waiting for a signal.\n",
        "\n",
        "                 * Practical Questions *\n",
        "1. Write a Python program to print \"Hello, World!\n",
        "\n"
      ]
    },
    {
      "cell_type": "code",
      "execution_count": null,
      "metadata": {
        "colab": {
          "base_uri": "https://localhost:8080/"
        },
        "id": "Lj2AeEM9chZY",
        "outputId": "a16c879b-25e8-4f66-9dec-ec932abfa969"
      },
      "outputs": [
        {
          "name": "stdout",
          "output_type": "stream",
          "text": [
            "Hello,World!\n"
          ]
        }
      ],
      "source": [
        "a= \"Hello,World!\"\n",
        "print(a)"
      ]
    },
    {
      "cell_type": "markdown",
      "metadata": {
        "id": "j51dwZUVc3j8"
      },
      "source": [
        "2. Write a Python program that displays your name and age."
      ]
    },
    {
      "cell_type": "code",
      "execution_count": null,
      "metadata": {
        "colab": {
          "base_uri": "https://localhost:8080/"
        },
        "id": "_MFHvI_Jc7uz",
        "outputId": "1040f896-c7cf-465a-ed1b-4485cd80886c"
      },
      "outputs": [
        {
          "name": "stdout",
          "output_type": "stream",
          "text": [
            "Name: Aditi Patil\n",
            "Age: 24\n"
          ]
        }
      ],
      "source": [
        "name = \"Aditi Patil\"\n",
        "age = 24\n",
        "print(\"Name:\", name)\n",
        "print(\"Age:\", age)\n"
      ]
    },
    {
      "cell_type": "markdown",
      "metadata": {
        "id": "vJJiBjWTdrGy"
      },
      "source": [
        "3. Write code to print all the pre-defined keywords in Python using the keyword library"
      ]
    },
    {
      "cell_type": "code",
      "execution_count": null,
      "metadata": {
        "colab": {
          "base_uri": "https://localhost:8080/"
        },
        "id": "R3_LgHYvdvFV",
        "outputId": "a7b090b5-7eea-4c67-ac58-ede23770c92f"
      },
      "outputs": [
        {
          "name": "stdout",
          "output_type": "stream",
          "text": [
            "Python Keywords:\n",
            "['False', 'None', 'True', 'and', 'as', 'assert', 'async', 'await', 'break', 'class', 'continue', 'def', 'del', 'elif', 'else', 'except', 'finally', 'for', 'from', 'global', 'if', 'import', 'in', 'is', 'lambda', 'nonlocal', 'not', 'or', 'pass', 'raise', 'return', 'try', 'while', 'with', 'yield']\n"
          ]
        }
      ],
      "source": [
        "import keyword\n",
        "print(\"Python Keywords:\")\n",
        "print(keyword.kwlist)"
      ]
    },
    {
      "cell_type": "markdown",
      "metadata": {
        "id": "gsKTs5lBe24N"
      },
      "source": [
        "4. Write a program that checks if a given word is a Python keyword."
      ]
    },
    {
      "cell_type": "code",
      "execution_count": null,
      "metadata": {
        "colab": {
          "base_uri": "https://localhost:8080/"
        },
        "id": "zhHZrf0Ee8lE",
        "outputId": "e7f64187-1ff9-41d0-9e25-2bd22845571f"
      },
      "outputs": [
        {
          "name": "stdout",
          "output_type": "stream",
          "text": [
            "Enter a word: True\n",
            "'True' is a Python keyword.\n"
          ]
        }
      ],
      "source": [
        "import keyword\n",
        "word = input(\"Enter a word: \")\n",
        "if keyword.iskeyword(word):\n",
        "    print(f\"'{word}' is a Python keyword.\")\n",
        "else:\n",
        "    print(f\"'{word}' is NOT a Python keyword.\")"
      ]
    },
    {
      "cell_type": "markdown",
      "metadata": {
        "id": "IGD_ZBj8fzm9"
      },
      "source": [
        "5. Create a list and tuple in Python, and demonstrate how attempting to change an element works differently for each."
      ]
    },
    {
      "cell_type": "code",
      "execution_count": null,
      "metadata": {
        "colab": {
          "base_uri": "https://localhost:8080/",
          "height": 211
        },
        "id": "zBZcgXXef8CP",
        "outputId": "83ea0c90-154b-4036-ec1d-c3f5f72238fe"
      },
      "outputs": [
        {
          "name": "stdout",
          "output_type": "stream",
          "text": [
            "['Aditi', 2, 3, 4, 5]\n"
          ]
        },
        {
          "ename": "TypeError",
          "evalue": "'tuple' object does not support item assignment",
          "output_type": "error",
          "traceback": [
            "\u001b[0;31m---------------------------------------------------------------------------\u001b[0m",
            "\u001b[0;31mTypeError\u001b[0m                                 Traceback (most recent call last)",
            "\u001b[0;32m<ipython-input-2-f8c6b4d9f52f>\u001b[0m in \u001b[0;36m<cell line: 0>\u001b[0;34m()\u001b[0m\n\u001b[1;32m      4\u001b[0m \u001b[0;31m#Tuples are immutable and changes cannot be made\u001b[0m\u001b[0;34m\u001b[0m\u001b[0;34m\u001b[0m\u001b[0m\n\u001b[1;32m      5\u001b[0m \u001b[0mtuple\u001b[0m \u001b[0;34m=\u001b[0m \u001b[0;34m(\u001b[0m\u001b[0;36m1\u001b[0m\u001b[0;34m,\u001b[0m\u001b[0;36m3\u001b[0m\u001b[0;34m,\u001b[0m\u001b[0;36m2\u001b[0m\u001b[0;34m,\u001b[0m\u001b[0;36m4\u001b[0m\u001b[0;34m)\u001b[0m\u001b[0;34m\u001b[0m\u001b[0;34m\u001b[0m\u001b[0m\n\u001b[0;32m----> 6\u001b[0;31m \u001b[0mtuple\u001b[0m\u001b[0;34m[\u001b[0m\u001b[0;36m2\u001b[0m\u001b[0;34m]\u001b[0m \u001b[0;34m=\u001b[0m \u001b[0;36m10\u001b[0m\u001b[0;34m\u001b[0m\u001b[0;34m\u001b[0m\u001b[0m\n\u001b[0m\u001b[1;32m      7\u001b[0m \u001b[0mprint\u001b[0m\u001b[0;34m(\u001b[0m\u001b[0mtuple\u001b[0m\u001b[0;34m)\u001b[0m\u001b[0;34m\u001b[0m\u001b[0;34m\u001b[0m\u001b[0m\n",
            "\u001b[0;31mTypeError\u001b[0m: 'tuple' object does not support item assignment"
          ]
        }
      ],
      "source": [
        "list = [1, 2, 3, 4, 5]\n",
        "list[0] = \"Aditi\"\n",
        "print(list)\n",
        "#Tuples are immutable and changes cannot be made\n",
        "tuple = (1,3,2,4)\n",
        "tuple[2] = 10\n",
        "print(tuple)"
      ]
    },
    {
      "cell_type": "markdown",
      "metadata": {
        "id": "Yx2wfND3goBK"
      },
      "source": [
        "6. Write a function to demonstrate the behavior of mutable and immutable arguments."
      ]
    },
    {
      "cell_type": "code",
      "execution_count": null,
      "metadata": {
        "colab": {
          "base_uri": "https://localhost:8080/",
          "height": 228
        },
        "id": "s-IqlVdMgt51",
        "outputId": "7dd74030-77b8-4ff8-f470-7ce70ccb3c78"
      },
      "outputs": [
        {
          "name": "stdout",
          "output_type": "stream",
          "text": [
            "['Aditi', True, 'datascience', (4+3j)]\n",
            "{'name': 'Divya', 'age': 24, 'city': 'Mumbai'}\n"
          ]
        },
        {
          "ename": "TypeError",
          "evalue": "'tuple' object does not support item assignment",
          "output_type": "error",
          "traceback": [
            "\u001b[0;31m---------------------------------------------------------------------------\u001b[0m",
            "\u001b[0;31mTypeError\u001b[0m                                 Traceback (most recent call last)",
            "\u001b[0;32m<ipython-input-5-472fa5e1d73e>\u001b[0m in \u001b[0;36m<cell line: 0>\u001b[0;34m()\u001b[0m\n\u001b[1;32m      8\u001b[0m \u001b[0;31m# Example of immutable are tuples and strings\u001b[0m\u001b[0;34m\u001b[0m\u001b[0;34m\u001b[0m\u001b[0m\n\u001b[1;32m      9\u001b[0m \u001b[0mtuple_1\u001b[0m \u001b[0;34m=\u001b[0m \u001b[0;34m(\u001b[0m\u001b[0;34m\"Aditi\"\u001b[0m\u001b[0;34m,\u001b[0m\u001b[0;32mTrue\u001b[0m\u001b[0;34m,\u001b[0m\u001b[0;36m34\u001b[0m\u001b[0;34m,\u001b[0m\u001b[0;36m4\u001b[0m\u001b[0;34m+\u001b[0m\u001b[0;36m9j\u001b[0m\u001b[0;34m)\u001b[0m\u001b[0;34m\u001b[0m\u001b[0;34m\u001b[0m\u001b[0m\n\u001b[0;32m---> 10\u001b[0;31m \u001b[0mtuple_1\u001b[0m\u001b[0;34m[\u001b[0m\u001b[0;34m-\u001b[0m\u001b[0;36m2\u001b[0m\u001b[0;34m]\u001b[0m \u001b[0;34m=\u001b[0m \u001b[0;34m\"pwskills\"\u001b[0m\u001b[0;34m\u001b[0m\u001b[0;34m\u001b[0m\u001b[0m\n\u001b[0m\u001b[1;32m     11\u001b[0m \u001b[0mprint\u001b[0m\u001b[0;34m(\u001b[0m\u001b[0mtuple_1\u001b[0m\u001b[0;34m)\u001b[0m\u001b[0;34m\u001b[0m\u001b[0;34m\u001b[0m\u001b[0m\n",
            "\u001b[0;31mTypeError\u001b[0m: 'tuple' object does not support item assignment"
          ]
        }
      ],
      "source": [
        "list_1 = [\"Aditi\",True,12,4+3j]\n",
        "list_1[-2] = \"datascience\"\n",
        "print(list_1)\n",
        "\n",
        "dict = {\"name\":\"Aditi\",\"age\":24,\"city\":\"Mumbai\"}\n",
        "dict[\"name\"] = \"Divya\"\n",
        "print(dict)\n",
        "# Example of immutable are tuples and strings\n",
        "tuple_1 = (\"Aditi\",True,34,4+9j)\n",
        "tuple_1[-2] = \"pwskills\"\n",
        "print(tuple_1)"
      ]
    },
    {
      "cell_type": "markdown",
      "metadata": {
        "id": "R_AoLZpPhzcA"
      },
      "source": [
        "7. Write a function to demonstrate the behavior of mutable and immutable arguments."
      ]
    },
    {
      "cell_type": "code",
      "execution_count": null,
      "metadata": {
        "colab": {
          "base_uri": "https://localhost:8080/",
          "height": 211
        },
        "id": "qzGt_n15iebE",
        "outputId": "0a4286b6-f38e-412f-f785-873d8ca05281"
      },
      "outputs": [
        {
          "name": "stdout",
          "output_type": "stream",
          "text": [
            "{1, 2, 3, 4, 5, 6}\n"
          ]
        },
        {
          "ename": "TypeError",
          "evalue": "'str' object does not support item assignment",
          "output_type": "error",
          "traceback": [
            "\u001b[0;31m---------------------------------------------------------------------------\u001b[0m",
            "\u001b[0;31mTypeError\u001b[0m                                 Traceback (most recent call last)",
            "\u001b[0;32m<ipython-input-7-6445d4416fbb>\u001b[0m in \u001b[0;36m<cell line: 0>\u001b[0;34m()\u001b[0m\n\u001b[1;32m      5\u001b[0m \u001b[0;31m# immutable example\u001b[0m\u001b[0;34m\u001b[0m\u001b[0;34m\u001b[0m\u001b[0m\n\u001b[1;32m      6\u001b[0m \u001b[0mstr_1\u001b[0m \u001b[0;34m=\u001b[0m \u001b[0;34m\"datascience\"\u001b[0m\u001b[0;34m\u001b[0m\u001b[0;34m\u001b[0m\u001b[0m\n\u001b[0;32m----> 7\u001b[0;31m \u001b[0mstr_1\u001b[0m\u001b[0;34m[\u001b[0m\u001b[0;36m3\u001b[0m\u001b[0;34m]\u001b[0m \u001b[0;34m=\u001b[0m \u001b[0;34m\"i\"\u001b[0m\u001b[0;34m\u001b[0m\u001b[0;34m\u001b[0m\u001b[0m\n\u001b[0m\u001b[1;32m      8\u001b[0m \u001b[0mprint\u001b[0m\u001b[0;34m(\u001b[0m\u001b[0mstr_1\u001b[0m\u001b[0;34m)\u001b[0m\u001b[0;34m\u001b[0m\u001b[0;34m\u001b[0m\u001b[0m\n",
            "\u001b[0;31mTypeError\u001b[0m: 'str' object does not support item assignment"
          ]
        }
      ],
      "source": [
        "my_set = {1,2,3,4,5,3}\n",
        "my_set.add(6)\n",
        "print(my_set)\n",
        "\n",
        "# immutable example\n",
        "str_1 = \"datascience\"\n",
        "str_1[3] = \"i\"\n",
        "print(str_1)"
      ]
    },
    {
      "cell_type": "markdown",
      "metadata": {
        "id": "mw01xfcUi3bn"
      },
      "source": [
        "8. Write a program to demonstrate the use of logical operators."
      ]
    },
    {
      "cell_type": "code",
      "execution_count": null,
      "metadata": {
        "colab": {
          "base_uri": "https://localhost:8080/"
        },
        "id": "MTdjAVsVjCyN",
        "outputId": "c1a9ff1c-ba6a-4ba1-930f-aee2fb5c6e02"
      },
      "outputs": [
        {
          "name": "stdout",
          "output_type": "stream",
          "text": [
            "False\n",
            "True\n",
            "False\n",
            "True\n",
            "False\n",
            "False\n"
          ]
        }
      ],
      "source": [
        "a = True\n",
        "b = False\n",
        "print(a and b)\n",
        "print(a or b)\n",
        "print(not a)\n",
        "\n",
        "# another example\n",
        "x = 10\n",
        "y = 20\n",
        "print(x > 5 and y < 30)\n",
        "print(x < 5 or y > 30)\n",
        "print(not x > 5)\n"
      ]
    },
    {
      "cell_type": "markdown",
      "metadata": {
        "id": "5UVumow0kLxU"
      },
      "source": [
        "9. Write a Python program to convert user input from string to integer, float, and boolean types"
      ]
    },
    {
      "cell_type": "code",
      "execution_count": null,
      "metadata": {
        "colab": {
          "base_uri": "https://localhost:8080/"
        },
        "id": "nXeiJOTAkNbD",
        "outputId": "9bcb4f67-fdce-4c3f-f028-351da5f994b9"
      },
      "outputs": [
        {
          "name": "stdout",
          "output_type": "stream",
          "text": [
            "Enter a number:25\n",
            "25\n",
            "25.0\n",
            "True\n"
          ]
        }
      ],
      "source": [
        "a = input(\"Enter a number:\")\n",
        "print(int(a))\n",
        "print(float(a))\n",
        "print(bool(a))"
      ]
    },
    {
      "cell_type": "markdown",
      "metadata": {
        "id": "CM5r7bJ_kyQg"
      },
      "source": [
        "10. Write code to demonstrate type casting with list elements."
      ]
    },
    {
      "cell_type": "code",
      "execution_count": null,
      "metadata": {
        "colab": {
          "base_uri": "https://localhost:8080/"
        },
        "id": "FYoluOfNlelp",
        "outputId": "ea107e2f-f4fa-4ed3-8713-2ebf9ba5e30d"
      },
      "outputs": [
        {
          "name": "stdout",
          "output_type": "stream",
          "text": [
            "561.58\n",
            "13.5\n",
            "22.2\n"
          ]
        }
      ],
      "source": [
        "int = 547\n",
        "float = 14.58\n",
        "new_number = int + float\n",
        "print(new_number)\n",
        "a = True\n",
        "b= 12.5\n",
        "c = a + b\n",
        "print(c)\n",
        "# example of explicit type\n",
        "a = 12.2\n",
        "b = 10\n",
        "c = a + b\n",
        "print(c)"
      ]
    },
    {
      "cell_type": "markdown",
      "metadata": {
        "id": "bAIQtHCAllaP"
      },
      "source": [
        "11. Write a program that checks if a number is positive, negative, or zero."
      ]
    },
    {
      "cell_type": "code",
      "execution_count": null,
      "metadata": {
        "colab": {
          "base_uri": "https://localhost:8080/"
        },
        "id": "iim3LF8HlumN",
        "outputId": "694bfdd6-33a5-4cd5-b5a0-3e6a1b31aa6d"
      },
      "outputs": [
        {
          "output_type": "stream",
          "name": "stdout",
          "text": [
            "enter a number: 98\n",
            "The number is positive.\n"
          ]
        }
      ],
      "source": [
        "num = int(input(\"enter a number: \"))\n",
        "if num > 0:\n",
        "   print(\"The number is positive.\")\n",
        "elif num < 0:\n",
        "   print(\"The number is negative.\")\n",
        "else:\n",
        "   print(\"The number is zero.\")"
      ]
    },
    {
      "cell_type": "markdown",
      "metadata": {
        "id": "MiG147IOmliA"
      },
      "source": [
        "12. Write a for loop to print numbers from 1 to 10."
      ]
    },
    {
      "cell_type": "code",
      "execution_count": null,
      "metadata": {
        "colab": {
          "base_uri": "https://localhost:8080/"
        },
        "id": "LGZ77sx9m5Cg",
        "outputId": "350ee0cc-1a73-46ff-9758-dd48593f5c8e"
      },
      "outputs": [
        {
          "name": "stdout",
          "output_type": "stream",
          "text": [
            "1\n",
            "2\n",
            "3\n",
            "4\n",
            "5\n",
            "6\n",
            "7\n",
            "8\n",
            "9\n",
            "10\n"
          ]
        }
      ],
      "source": [
        "for i in range(1, 11):\n",
        "    print(i)"
      ]
    },
    {
      "cell_type": "markdown",
      "metadata": {
        "id": "GI6ibhrrnAdi"
      },
      "source": [
        "13. Write a Python program to find the sum of all even numbers between 1 and 50"
      ]
    },
    {
      "cell_type": "code",
      "execution_count": null,
      "metadata": {
        "colab": {
          "base_uri": "https://localhost:8080/"
        },
        "id": "fm9YXLSvnKgd",
        "outputId": "e542e36f-7202-4754-f8db-dfbf8704c9d8"
      },
      "outputs": [
        {
          "output_type": "stream",
          "name": "stdout",
          "text": [
            "The sum of all even numbers between 1 and 50 is: 650\n"
          ]
        }
      ],
      "source": [
        "even_sum = 0\n",
        "for num in range(1, 51):\n",
        "    if num % 2 == 0:\n",
        "        even_sum += num\n",
        "print(\"The sum of all even numbers between 1 and 50 is:\", even_sum)"
      ]
    },
    {
      "cell_type": "markdown",
      "metadata": {
        "id": "dyWioJxFnRSH"
      },
      "source": [
        "14. Write a program to reverse a string using a while loop."
      ]
    },
    {
      "cell_type": "code",
      "execution_count": null,
      "metadata": {
        "colab": {
          "base_uri": "https://localhost:8080/"
        },
        "id": "7HtQiM_unsib",
        "outputId": "615c08f0-a041-4cd1-9c3d-d4f786d03fcf"
      },
      "outputs": [
        {
          "output_type": "stream",
          "name": "stdout",
          "text": [
            "['shreya', 'divya', 'Aditi']\n"
          ]
        }
      ],
      "source": [
        "string = [\"Aditi\",\"divya\",\"shreya\"]\n",
        "reversed_string = []\n",
        "i = len(string) - 1\n",
        "while i >= 0:\n",
        "    reversed_string.append(string[i])\n",
        "    i -= 1\n",
        "print(reversed_string)\n",
        "\n",
        "\n"
      ]
    },
    {
      "cell_type": "markdown",
      "metadata": {
        "id": "S3ZNxVCBplTc"
      },
      "source": [
        "15. Write a Python program to calculate the factorial of a number provided by the user using a while loop."
      ]
    },
    {
      "cell_type": "code",
      "execution_count": null,
      "metadata": {
        "colab": {
          "base_uri": "https://localhost:8080/"
        },
        "id": "wvs5nbLWquA-",
        "outputId": "2d97c5c7-e27f-4222-eed4-f7cace5fcb3f"
      },
      "outputs": [
        {
          "output_type": "stream",
          "name": "stdout",
          "text": [
            "the factorial of 5 is 120\n"
          ]
        }
      ],
      "source": [
        "i = 5\n",
        "factorial = 1\n",
        "for i in range(1,i+1):\n",
        " factorial *=i\n",
        "print(f\"the factorial of {i} is {factorial}\")"
      ]
    }
  ],
  "metadata": {
    "colab": {
      "provenance": []
    },
    "kernelspec": {
      "display_name": "Python 3",
      "name": "python3"
    },
    "language_info": {
      "name": "python"
    }
  },
  "nbformat": 4,
  "nbformat_minor": 0
}